{
 "cells": [
  {
   "cell_type": "code",
   "execution_count": 1,
   "metadata": {},
   "outputs": [],
   "source": [
    "import cv2\n",
    "import numpy as np\n",
    "def paste_video(video_path_01, video_path_02):\n",
    "\n",
    "    video_01 = cv2.VideoCapture(video_path_01)\n",
    "    fps = 25\n",
    "    frames_01 = []\n",
    "    while 1:\n",
    "        still_reading, frame = video_01.read()\n",
    "        if not still_reading:\n",
    "            video_01.release()\n",
    "            break\n",
    "        frames_01.append(frame)\n",
    "\n",
    "    video_02 = cv2.VideoCapture(video_path_02)\n",
    "    frames_02 = []\n",
    "    while 1:\n",
    "        still_reading, frame = video_02.read()\n",
    "        if not still_reading:\n",
    "            video_02.release()\n",
    "            break\n",
    "        frames_02.append(frame)\n",
    "    frame_w = 256\n",
    "    frame_h = 256\n",
    "\n",
    "    tmp_path = 'test/test.mp4'\n",
    "    out_tmp = cv2.VideoWriter(tmp_path, cv2.VideoWriter_fourcc(*'MP4V'), fps, (frame_w, frame_h))\n",
    "    for key in range(frames_01.size()):\n",
    "        mask = 255*np.ones(frames_01[key])\n",
    "        location = (30,30)\n",
    "        gen_video = cv2.seamlessClone(frames_01[key], frames_02[key], mask,\n",
    "                                      location, cv2.NORMAL_CLONE)\n",
    "        out_tmp.write(gen_video)\n",
    "\n",
    "    out_tmp.release\n",
    "\n",
    "    return \"ok\"\n",
    "\n",
    "if __name__ == \"__name__\":\n",
    "    print(\"hahaha\")\n",
    "    video_path_01 = 'test/head.mp4'\n",
    "    video_path_02 = 'test/body.mp4'\n",
    "    demo = paste_video(video_path_01, video_path_02)\n",
    "    \n",
    "    print(demo)\n"
   ]
  }
 ],
 "metadata": {
  "kernelspec": {
   "display_name": "sadtalker",
   "language": "python",
   "name": "python3"
  },
  "language_info": {
   "codemirror_mode": {
    "name": "ipython",
    "version": 3
   },
   "file_extension": ".py",
   "mimetype": "text/x-python",
   "name": "python",
   "nbconvert_exporter": "python",
   "pygments_lexer": "ipython3",
   "version": "3.8.17"
  },
  "orig_nbformat": 4
 },
 "nbformat": 4,
 "nbformat_minor": 2
}
